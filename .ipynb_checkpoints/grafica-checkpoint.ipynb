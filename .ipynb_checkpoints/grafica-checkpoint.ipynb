{
 "cells": [
  {
   "cell_type": "code",
   "execution_count": 1,
   "metadata": {
    "tags": []
   },
   "outputs": [],
   "source": [
    "%matplotlib notebook\n",
    "import pandas as pd\n",
    "import matplotlib.pyplot as plt\n",
    "from mpl_toolkits.mplot3d import Axes3D  # Importa la proyección 3D"
   ]
  },
  {
   "cell_type": "code",
   "execution_count": 8,
   "metadata": {
    "tags": []
   },
   "outputs": [
    {
     "name": "stdout",
     "output_type": "stream",
     "text": [
      "        x1     x2     y1     y2  target1  target2\n",
      "0   -650.0 -631.0  350.0 -516.0      0.0      0.0\n",
      "1   -650.0 -631.0  301.0 -516.0      0.0      0.0\n",
      "2   -629.0 -631.0  317.0 -516.0      0.0      0.0\n",
      "3   -608.0 -631.0  332.0 -516.0      0.0      0.0\n",
      "4   -587.0 -631.0  347.0 -516.0      0.0      0.0\n",
      "..     ...    ...    ...    ...      ...      ...\n",
      "296 -205.0 -637.0  165.0 -364.0      0.0      0.0\n",
      "297 -183.0 -637.0  146.0 -364.0      0.0      0.0\n",
      "298 -162.0 -637.0  127.0 -364.0      0.0      0.0\n",
      "299 -141.0 -637.0  106.0 -364.0      0.0      0.0\n",
      "300 -120.0 -637.0   85.0 -364.0      0.0      0.0\n",
      "\n",
      "[301 rows x 6 columns]\n"
     ]
    }
   ],
   "source": [
    "import pandas as pd\n",
    "ruta_archivo = 'datos_entrenamiento.txt'  # Reemplaza 'ruta/datos_entrenamiento.txt' con la ubicación real del archivo\n",
    "with open(ruta_archivo, 'r') as file:\n",
    "    lineas = file.readlines()\n",
    "\n",
    "datos = []\n",
    "for linea in lineas:\n",
    "    valores = list(map(float, linea.strip().split(' ')))  # Convierte los valores a números (floats)\n",
    "    datos.append(valores)\n",
    "\n",
    "# Define las columnas del DataFrame\n",
    "columnas = ['x1', 'x2', 'y1', 'y2', 'target1', 'target2']\n",
    "\n",
    "# Crea el DataFrame\n",
    "df = pd.DataFrame(datos, columns=columnas)\n",
    "\n",
    "# Muestra el DataFrame\n",
    "print(df)\n"
   ]
  },
  {
   "cell_type": "code",
   "execution_count": 16,
   "metadata": {
    "scrolled": true,
    "tags": []
   },
   "outputs": [
    {
     "ename": "AttributeError",
     "evalue": "module 'matplotlib.pyplot' has no attribute 'use'",
     "output_type": "error",
     "traceback": [
      "\u001b[1;31m---------------------------------------------------------------------------\u001b[0m",
      "\u001b[1;31mAttributeError\u001b[0m                            Traceback (most recent call last)",
      "Cell \u001b[1;32mIn[16], line 5\u001b[0m\n\u001b[0;32m      3\u001b[0m \u001b[38;5;28;01mimport\u001b[39;00m \u001b[38;5;21;01mmatplotlib\u001b[39;00m\u001b[38;5;21;01m.\u001b[39;00m\u001b[38;5;21;01mpyplot\u001b[39;00m \u001b[38;5;28;01mas\u001b[39;00m \u001b[38;5;21;01mplt\u001b[39;00m\n\u001b[0;32m      4\u001b[0m \u001b[38;5;28;01mfrom\u001b[39;00m \u001b[38;5;21;01mmpl_toolkits\u001b[39;00m\u001b[38;5;21;01m.\u001b[39;00m\u001b[38;5;21;01mmplot3d\u001b[39;00m \u001b[38;5;28;01mimport\u001b[39;00m Axes3D  \u001b[38;5;66;03m# Importa la proyección 3D\u001b[39;00m\n\u001b[1;32m----> 5\u001b[0m \u001b[43mplt\u001b[49m\u001b[38;5;241;43m.\u001b[39;49m\u001b[43muse\u001b[49m(\u001b[38;5;124m\"\u001b[39m\u001b[38;5;124mnbagg\u001b[39m\u001b[38;5;124m\"\u001b[39m)\n\u001b[0;32m      6\u001b[0m \u001b[38;5;66;03m# Grafica \u001b[39;00m\n\u001b[0;32m      7\u001b[0m \u001b[38;5;66;03m#df = pd.read_csv('output.csv', header=None, names=['x1', 'x2', 'y1', 'y2', 'target1', 'target2'], dtype=float)\u001b[39;00m\n\u001b[0;32m      8\u001b[0m \n\u001b[0;32m      9\u001b[0m \u001b[38;5;66;03m# Crear la figura en 3D\u001b[39;00m\n\u001b[0;32m     10\u001b[0m fig \u001b[38;5;241m=\u001b[39m plt\u001b[38;5;241m.\u001b[39mfigure()\n",
      "\u001b[1;31mAttributeError\u001b[0m: module 'matplotlib.pyplot' has no attribute 'use'"
     ]
    }
   ],
   "source": [
    "%matplotlib notebook\n",
    "import pandas as pd\n",
    "import matplotlib.pyplot as plt\n",
    "from mpl_toolkits.mplot3d import Axes3D  # Importa la proyección 3D\n",
    "\n",
    "# Grafica \n",
    "#df = pd.read_csv('output.csv', header=None, names=['x1', 'x2', 'y1', 'y2', 'target1', 'target2'], dtype=float)\n",
    "\n",
    "# Crear la figura en 3D\n",
    "fig = plt.figure()\n",
    "ax = fig.add_subplot(111, projection='3d')\n",
    "\n",
    "scatter1 = ax.scatter(df['x1'], df['x2'], c=df['target1'], cmap='viridis', marker='o', label='Salto')\n",
    "colorbar1 = plt.colorbar(scatter1)\n",
    "colorbar1.set_label('Salto')\n",
    "\n",
    "scatter2 = ax.scatter(df['x1'], df['y2'], df['y1'], c=df['target2'], cmap='plasma', marker='^', label='Derecha')\n",
    "colorbar2 = plt.colorbar(scatter2)\n",
    "colorbar2.set_label('Derecha')\n",
    "\n",
    "# Etiquetas de los ejes en 3D\n",
    "ax.set_xlabel('distancia')\n",
    "ax.set_ylabel('velocidad')\n",
    "ax.set_zlabel('altura')  \n",
    "\n",
    "# Mostrar el gráfico en 3D\n",
    "plt.legend()\n",
    "plt.show()"
   ]
  },
  {
   "cell_type": "code",
   "execution_count": 11,
   "metadata": {},
   "outputs": [
    {
     "name": "stdout",
     "output_type": "stream",
     "text": [
      "8.18.1\n"
     ]
    }
   ],
   "source": [
    "import IPython\n",
    "print(IPython.__version__)"
   ]
  },
  {
   "cell_type": "code",
   "execution_count": 14,
   "metadata": {},
   "outputs": [
    {
     "ename": "NameError",
     "evalue": "name 'python' is not defined",
     "output_type": "error",
     "traceback": [
      "\u001b[1;31m---------------------------------------------------------------------------\u001b[0m",
      "\u001b[1;31mNameError\u001b[0m                                 Traceback (most recent call last)",
      "Cell \u001b[1;32mIn[14], line 1\u001b[0m\n\u001b[1;32m----> 1\u001b[0m \u001b[43mpython\u001b[49m\u001b[38;5;241m.\u001b[39mv\n",
      "\u001b[1;31mNameError\u001b[0m: name 'python' is not defined"
     ]
    }
   ],
   "source": [
    "python.v\n"
   ]
  },
  {
   "cell_type": "code",
   "execution_count": null,
   "metadata": {},
   "outputs": [],
   "source": []
  }
 ],
 "metadata": {
  "kernelspec": {
   "display_name": "Python 3 (ipykernel)",
   "language": "python",
   "name": "python3"
  },
  "language_info": {
   "codemirror_mode": {
    "name": "ipython",
    "version": 3
   },
   "file_extension": ".py",
   "mimetype": "text/x-python",
   "name": "python",
   "nbconvert_exporter": "python",
   "pygments_lexer": "ipython3",
   "version": "3.11.5"
  }
 },
 "nbformat": 4,
 "nbformat_minor": 4
}
